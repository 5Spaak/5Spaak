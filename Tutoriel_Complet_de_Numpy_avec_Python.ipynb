{
  "nbformat": 4,
  "nbformat_minor": 0,
  "metadata": {
    "colab": {
      "provenance": [],
      "authorship_tag": "ABX9TyO8Fic1HoW3wUKjxcVA2nTM",
      "include_colab_link": true
    },
    "kernelspec": {
      "name": "python3",
      "display_name": "Python 3"
    },
    "language_info": {
      "name": "python"
    }
  },
  "cells": [
    {
      "cell_type": "markdown",
      "metadata": {
        "id": "view-in-github",
        "colab_type": "text"
      },
      "source": [
        "<a href=\"https://colab.research.google.com/github/5Spaak/5Spaak/blob/main/Tutoriel_Complet_de_Numpy_avec_Python.ipynb\" target=\"_parent\"><img src=\"https://colab.research.google.com/assets/colab-badge.svg\" alt=\"Open In Colab\"/></a>"
      ]
    },
    {
      "cell_type": "markdown",
      "source": [
        "**Numpy - Numerical Python**"
      ],
      "metadata": {
        "id": "ryFOesbiLIhr"
      }
    },
    {
      "cell_type": "markdown",
      "source": [
        "**Avantages de Tableau Numpy**\n",
        "\n",
        "\n",
        "1.   Permet plusieurs opérations mathématiques\n",
        "2.   Opérations plus rapides\n",
        "\n"
      ],
      "metadata": {
        "id": "IQrdzL_hLUfb"
      }
    },
    {
      "cell_type": "code",
      "source": [
        "# importer la bibliothèque\n",
        "import numpy as np"
      ],
      "metadata": {
        "id": "-fjSjdiMLTJl"
      },
      "execution_count": 3,
      "outputs": []
    },
    {
      "cell_type": "markdown",
      "source": [
        "List vs Numpy - Time Taken"
      ],
      "metadata": {
        "id": "MvDzYt1CNqML"
      }
    },
    {
      "cell_type": "code",
      "source": [
        "from time import process_time"
      ],
      "metadata": {
        "id": "-9HQ8ZQyNgoe"
      },
      "execution_count": 4,
      "outputs": []
    },
    {
      "cell_type": "markdown",
      "source": [
        "Time taken by list"
      ],
      "metadata": {
        "id": "7PRcxpNcRYzp"
      }
    },
    {
      "cell_type": "code",
      "source": [
        "python_list = [i for i in range(1000)]\n",
        "start_time = process_time()\n",
        "python_list = [i+5 for i in python_list]\n",
        "end_time = process_time()\n",
        "print(end_time - start_time)"
      ],
      "metadata": {
        "colab": {
          "base_uri": "https://localhost:8080/"
        },
        "id": "Mu5QnOv2Nz5-",
        "outputId": "857dcce4-12ba-4634-9eba-2cceb856b15d"
      },
      "execution_count": 5,
      "outputs": [
        {
          "output_type": "stream",
          "name": "stdout",
          "text": [
            "0.00025051699999956156\n"
          ]
        }
      ]
    },
    {
      "cell_type": "markdown",
      "source": [
        "Time taken by Numpy"
      ],
      "metadata": {
        "id": "miPrB32zRg3Y"
      }
    },
    {
      "cell_type": "code",
      "source": [
        "np_array = np.array([i for i in range(1000)])\n",
        "start_time = process_time()\n",
        "np_array +=5\n",
        "end_time = process_time()\n",
        "print(end_time - start_time)"
      ],
      "metadata": {
        "colab": {
          "base_uri": "https://localhost:8080/"
        },
        "id": "a-hj1IngRdLm",
        "outputId": "40643ba9-894f-485d-d062-7c972fa427a8"
      },
      "execution_count": 6,
      "outputs": [
        {
          "output_type": "stream",
          "name": "stdout",
          "text": [
            "0.0012622239999995344\n"
          ]
        }
      ]
    },
    {
      "cell_type": "code",
      "source": [
        "# List\n",
        "list1 =[1,2,3,4,5,6]\n",
        "print(list1)"
      ],
      "metadata": {
        "colab": {
          "base_uri": "https://localhost:8080/"
        },
        "id": "mA4ano6XRnEY",
        "outputId": "c5fe063a-9209-4f43-e807-4549f1e26cff"
      },
      "execution_count": 7,
      "outputs": [
        {
          "output_type": "stream",
          "name": "stdout",
          "text": [
            "[1, 2, 3, 4, 5, 6]\n"
          ]
        }
      ]
    },
    {
      "cell_type": "code",
      "source": [
        "type(list1)"
      ],
      "metadata": {
        "colab": {
          "base_uri": "https://localhost:8080/"
        },
        "id": "3mjXzauJT06o",
        "outputId": "b8e9481e-7ab2-486e-96ad-38eb36ece4b8"
      },
      "execution_count": 8,
      "outputs": [
        {
          "output_type": "execute_result",
          "data": {
            "text/plain": [
              "list"
            ]
          },
          "metadata": {},
          "execution_count": 8
        }
      ]
    },
    {
      "cell_type": "code",
      "source": [
        "# Numpy Arrays\n",
        "np_array = np.array([1,2,3,4,5])"
      ],
      "metadata": {
        "id": "u0-3ckYzT3v9"
      },
      "execution_count": 9,
      "outputs": []
    },
    {
      "cell_type": "code",
      "source": [
        "print(np_array)"
      ],
      "metadata": {
        "colab": {
          "base_uri": "https://localhost:8080/"
        },
        "id": "dpGBlSLXUAkB",
        "outputId": "62408199-0850-4b77-b517-3cfd4af5d31b"
      },
      "execution_count": 10,
      "outputs": [
        {
          "output_type": "stream",
          "name": "stdout",
          "text": [
            "[1 2 3 4 5]\n"
          ]
        }
      ]
    },
    {
      "cell_type": "code",
      "source": [
        "type(np_array)"
      ],
      "metadata": {
        "colab": {
          "base_uri": "https://localhost:8080/"
        },
        "id": "Eqit0bBSUDO1",
        "outputId": "bfd5e105-b3bc-4831-a56e-6cab9f99c563"
      },
      "execution_count": 11,
      "outputs": [
        {
          "output_type": "execute_result",
          "data": {
            "text/plain": [
              "numpy.ndarray"
            ]
          },
          "metadata": {},
          "execution_count": 11
        }
      ]
    },
    {
      "cell_type": "code",
      "source": [
        "# create a 1 dim array\n",
        "a = np.array([1,2,3,4,5])\n",
        "print(a)"
      ],
      "metadata": {
        "colab": {
          "base_uri": "https://localhost:8080/"
        },
        "id": "FqCAq36zUF79",
        "outputId": "b7b0d54e-634c-466e-f682-88f249963752"
      },
      "execution_count": 12,
      "outputs": [
        {
          "output_type": "stream",
          "name": "stdout",
          "text": [
            "[1 2 3 4 5]\n"
          ]
        }
      ]
    },
    {
      "cell_type": "code",
      "source": [
        "a.shape"
      ],
      "metadata": {
        "colab": {
          "base_uri": "https://localhost:8080/"
        },
        "id": "cQPYI_6SURjr",
        "outputId": "78d97781-7b39-48e0-cf59-2986f3302f58"
      },
      "execution_count": 13,
      "outputs": [
        {
          "output_type": "execute_result",
          "data": {
            "text/plain": [
              "(5,)"
            ]
          },
          "metadata": {},
          "execution_count": 13
        }
      ]
    },
    {
      "cell_type": "code",
      "source": [
        "# Numpy array with Mutiple Dimensions\n",
        "b = np.array([(1,2,3,4),(5,6,7,8)])\n",
        "print(b)"
      ],
      "metadata": {
        "colab": {
          "base_uri": "https://localhost:8080/"
        },
        "id": "07OB0YS6UUw8",
        "outputId": "ab2729cb-546b-43eb-94d8-28c793721984"
      },
      "execution_count": 14,
      "outputs": [
        {
          "output_type": "stream",
          "name": "stdout",
          "text": [
            "[[1 2 3 4]\n",
            " [5 6 7 8]]\n"
          ]
        }
      ]
    },
    {
      "cell_type": "code",
      "source": [
        "b.shape"
      ],
      "metadata": {
        "colab": {
          "base_uri": "https://localhost:8080/"
        },
        "id": "nitCkRIlUlg7",
        "outputId": "8feeafb9-4ff4-4565-e460-dc928c8e1dd5"
      },
      "execution_count": 15,
      "outputs": [
        {
          "output_type": "execute_result",
          "data": {
            "text/plain": [
              "(2, 4)"
            ]
          },
          "metadata": {},
          "execution_count": 15
        }
      ]
    },
    {
      "cell_type": "code",
      "source": [
        "c = np.array([(1,2,3,4),(5,6,7,8)], dtype=float)\n",
        "print(c)"
      ],
      "metadata": {
        "colab": {
          "base_uri": "https://localhost:8080/"
        },
        "id": "-TaGMnzoUoKf",
        "outputId": "68f13775-5242-4895-d5d9-e3e1e15d325c"
      },
      "execution_count": 16,
      "outputs": [
        {
          "output_type": "stream",
          "name": "stdout",
          "text": [
            "[[1. 2. 3. 4.]\n",
            " [5. 6. 7. 8.]]\n"
          ]
        }
      ]
    },
    {
      "cell_type": "code",
      "source": [
        "# Create a numpy array of zeros\n",
        "x = np.zeros((4,5))\n",
        "print(x)"
      ],
      "metadata": {
        "colab": {
          "base_uri": "https://localhost:8080/"
        },
        "id": "iAPkSrqzU76P",
        "outputId": "0c51a49a-44d5-4930-a3db-93a4901203b6"
      },
      "execution_count": 17,
      "outputs": [
        {
          "output_type": "stream",
          "name": "stdout",
          "text": [
            "[[0. 0. 0. 0. 0.]\n",
            " [0. 0. 0. 0. 0.]\n",
            " [0. 0. 0. 0. 0.]\n",
            " [0. 0. 0. 0. 0.]]\n"
          ]
        }
      ]
    },
    {
      "cell_type": "code",
      "source": [
        "# Create a numpy array of ones\n",
        "y = np.ones((3,3))\n",
        "print(y)"
      ],
      "metadata": {
        "colab": {
          "base_uri": "https://localhost:8080/"
        },
        "id": "0vPcpF0aVVUM",
        "outputId": "72bf7a88-f3da-4db4-cd2a-7e3d592da36c"
      },
      "execution_count": 18,
      "outputs": [
        {
          "output_type": "stream",
          "name": "stdout",
          "text": [
            "[[1. 1. 1.]\n",
            " [1. 1. 1.]\n",
            " [1. 1. 1.]]\n"
          ]
        }
      ]
    },
    {
      "cell_type": "code",
      "source": [
        "# array of a particular value\n",
        "z = np.full((5,4),4)\n",
        "print(z)"
      ],
      "metadata": {
        "colab": {
          "base_uri": "https://localhost:8080/"
        },
        "id": "Ge7YcbotVhpR",
        "outputId": "e2b400c1-42bf-481a-dfaf-b3e3be33d1e2"
      },
      "execution_count": 27,
      "outputs": [
        {
          "output_type": "stream",
          "name": "stdout",
          "text": [
            "[[4 4 4 4]\n",
            " [4 4 4 4]\n",
            " [4 4 4 4]\n",
            " [4 4 4 4]\n",
            " [4 4 4 4]]\n"
          ]
        }
      ]
    },
    {
      "cell_type": "code",
      "source": [
        "# Create an identity matrix\n",
        "a = np.eye(6)\n",
        "print(a)"
      ],
      "metadata": {
        "colab": {
          "base_uri": "https://localhost:8080/"
        },
        "id": "NAf0scIoXaQq",
        "outputId": "b4fa154f-caa2-44e1-e979-1c6726379c40"
      },
      "execution_count": 30,
      "outputs": [
        {
          "output_type": "stream",
          "name": "stdout",
          "text": [
            "[[1. 0. 0. 0. 0. 0.]\n",
            " [0. 1. 0. 0. 0. 0.]\n",
            " [0. 0. 1. 0. 0. 0.]\n",
            " [0. 0. 0. 1. 0. 0.]\n",
            " [0. 0. 0. 0. 1. 0.]\n",
            " [0. 0. 0. 0. 0. 1.]]\n"
          ]
        }
      ]
    },
    {
      "cell_type": "code",
      "source": [
        "# Create a numpy with random value\n",
        "b = np.random.random((3,4))\n",
        "print(b)"
      ],
      "metadata": {
        "colab": {
          "base_uri": "https://localhost:8080/"
        },
        "id": "0wAo3XYxXeqA",
        "outputId": "bee7bcf5-e173-4706-f956-506b60bb2982"
      },
      "execution_count": 34,
      "outputs": [
        {
          "output_type": "stream",
          "name": "stdout",
          "text": [
            "[[0.46179021 0.6723951  0.04767685 0.58826825]\n",
            " [0.49347656 0.79071503 0.21257544 0.14673493]\n",
            " [0.51209694 0.09961929 0.65138989 0.03013606]]\n"
          ]
        }
      ]
    },
    {
      "cell_type": "code",
      "source": [
        "# random integer values with a specific range\n",
        "c = np.random.randint(10,100,(3,5))\n",
        "print(c)"
      ],
      "metadata": {
        "colab": {
          "base_uri": "https://localhost:8080/"
        },
        "id": "ZWjG763CXkmA",
        "outputId": "816ef185-37df-40e4-cde5-a20875d41061"
      },
      "execution_count": 38,
      "outputs": [
        {
          "output_type": "stream",
          "name": "stdout",
          "text": [
            "[[43 82 17 76 26]\n",
            " [40 70 57 93 79]\n",
            " [46 49 51 30 93]]\n"
          ]
        }
      ]
    },
    {
      "cell_type": "code",
      "source": [
        "# array of evenly spaced values (specifying the number of values required)\n",
        "d = np.linspace(10,30,6)\n",
        "print(d)"
      ],
      "metadata": {
        "colab": {
          "base_uri": "https://localhost:8080/"
        },
        "id": "OXyIWwpEXraF",
        "outputId": "be40e7e6-474d-45f4-a272-51693a4512ce"
      },
      "execution_count": 49,
      "outputs": [
        {
          "output_type": "stream",
          "name": "stdout",
          "text": [
            "[10. 14. 18. 22. 26. 30.]\n"
          ]
        }
      ]
    },
    {
      "cell_type": "code",
      "source": [
        "# array of evenly spaced values (specifying the step)\n",
        "e = np.arange(10,30,5)\n",
        "print(e)"
      ],
      "metadata": {
        "colab": {
          "base_uri": "https://localhost:8080/"
        },
        "id": "Pe9IVWh0X6fJ",
        "outputId": "14fdfc41-86dc-424f-fec4-8958c29a56dc"
      },
      "execution_count": 51,
      "outputs": [
        {
          "output_type": "stream",
          "name": "stdout",
          "text": [
            "[10 15 20 25]\n"
          ]
        }
      ]
    },
    {
      "cell_type": "code",
      "source": [
        "# convert a list to a numpy\n",
        "list2 = [10,20,30,50,60]\n",
        "np_array = np.asarray(list2)\n",
        "print(np_array)"
      ],
      "metadata": {
        "colab": {
          "base_uri": "https://localhost:8080/"
        },
        "id": "F6G-j9hLX-ON",
        "outputId": "4a3ae4e9-1bac-4020-dae9-18b97104dfcd"
      },
      "execution_count": 52,
      "outputs": [
        {
          "output_type": "stream",
          "name": "stdout",
          "text": [
            "[10 20 30 50 60]\n"
          ]
        }
      ]
    },
    {
      "cell_type": "code",
      "source": [
        "type(np_array)"
      ],
      "metadata": {
        "colab": {
          "base_uri": "https://localhost:8080/"
        },
        "id": "slVYoG0lc3no",
        "outputId": "8dbc4c37-af11-4e9d-ba6a-182973e75c12"
      },
      "execution_count": 53,
      "outputs": [
        {
          "output_type": "execute_result",
          "data": {
            "text/plain": [
              "numpy.ndarray"
            ]
          },
          "metadata": {},
          "execution_count": 53
        }
      ]
    },
    {
      "cell_type": "markdown",
      "source": [
        "Analysing a numpy array"
      ],
      "metadata": {
        "id": "a7qsid2AYJ8T"
      }
    },
    {
      "cell_type": "code",
      "source": [
        "# analysing a numpy array\n",
        "c = np.random.randint(10,90,(5,5))\n",
        "print(c)"
      ],
      "metadata": {
        "colab": {
          "base_uri": "https://localhost:8080/"
        },
        "id": "TIYrZxFPYE8I",
        "outputId": "ab904fd5-ab09-402b-af87-48efb8fef90b"
      },
      "execution_count": 54,
      "outputs": [
        {
          "output_type": "stream",
          "name": "stdout",
          "text": [
            "[[21 84 60 38 16]\n",
            " [36 26 38 67 35]\n",
            " [63 52 27 45 43]\n",
            " [38 20 24 25 14]\n",
            " [88 11 28 56 26]]\n"
          ]
        }
      ]
    },
    {
      "cell_type": "code",
      "source": [
        "# array dimension\n",
        "print(c.shape)"
      ],
      "metadata": {
        "colab": {
          "base_uri": "https://localhost:8080/"
        },
        "id": "o5EKOFi9dLnW",
        "outputId": "121bf378-7545-4acc-f5c8-683428a104d1"
      },
      "execution_count": 55,
      "outputs": [
        {
          "output_type": "stream",
          "name": "stdout",
          "text": [
            "(5, 5)\n"
          ]
        }
      ]
    },
    {
      "cell_type": "code",
      "source": [
        "# number of dimensions\n",
        "print(c.ndim)"
      ],
      "metadata": {
        "colab": {
          "base_uri": "https://localhost:8080/"
        },
        "id": "h4NM2oCcdQve",
        "outputId": "cfdef600-f21b-45cb-e0db-4876c0a88bc7"
      },
      "execution_count": 56,
      "outputs": [
        {
          "output_type": "stream",
          "name": "stdout",
          "text": [
            "2\n"
          ]
        }
      ]
    },
    {
      "cell_type": "code",
      "source": [
        "# number of elements in an array\n",
        "print(c.size)"
      ],
      "metadata": {
        "colab": {
          "base_uri": "https://localhost:8080/"
        },
        "id": "bXxvAcL8dZd0",
        "outputId": "6ca6f215-bc18-4eb0-8b09-a8b7bb4750f4"
      },
      "execution_count": 57,
      "outputs": [
        {
          "output_type": "stream",
          "name": "stdout",
          "text": [
            "25\n"
          ]
        }
      ]
    },
    {
      "cell_type": "code",
      "source": [
        "# checking the data type of the values in the array\n",
        "print(c.dtype)"
      ],
      "metadata": {
        "colab": {
          "base_uri": "https://localhost:8080/"
        },
        "id": "aw37roesdhwi",
        "outputId": "aaf8b3b8-912a-44ac-ce29-d5155ba226c0"
      },
      "execution_count": 58,
      "outputs": [
        {
          "output_type": "stream",
          "name": "stdout",
          "text": [
            "int64\n"
          ]
        }
      ]
    },
    {
      "cell_type": "code",
      "source": [
        "# Mathematical Operation on a np array\n",
        "list1 = [1,2,3,4,5]\n",
        "list2 = [6,7,8,9,10]\n",
        "print(list1+list2) # concatenate or join"
      ],
      "metadata": {
        "colab": {
          "base_uri": "https://localhost:8080/"
        },
        "id": "1H6ieOQTduCt",
        "outputId": "dfd728c0-df24-45ee-ef90-3d55e31e558e"
      },
      "execution_count": 60,
      "outputs": [
        {
          "output_type": "stream",
          "name": "stdout",
          "text": [
            "[1, 2, 3, 4, 5, 6, 7, 8, 9, 10]\n"
          ]
        }
      ]
    },
    {
      "cell_type": "code",
      "source": [
        "# Using np array\n",
        "a = np.random.randint(0,10,(3,3))\n",
        "b = np.random.randint(10,20,(3,3))"
      ],
      "metadata": {
        "id": "jus_pwvCglgh"
      },
      "execution_count": 61,
      "outputs": []
    },
    {
      "cell_type": "code",
      "source": [
        "print(a)\n",
        "print(b)"
      ],
      "metadata": {
        "colab": {
          "base_uri": "https://localhost:8080/"
        },
        "id": "5nRzhDvqg4vZ",
        "outputId": "80947288-319c-43ba-c833-51b224e83566"
      },
      "execution_count": 62,
      "outputs": [
        {
          "output_type": "stream",
          "name": "stdout",
          "text": [
            "[[5 4 0]\n",
            " [4 9 7]\n",
            " [9 7 9]]\n",
            "[[12 14 10]\n",
            " [18 19 18]\n",
            " [13 14 14]]\n"
          ]
        }
      ]
    },
    {
      "cell_type": "code",
      "source": [
        "print(a+b)\n",
        "print(a-b)\n",
        "print(a*b)\n",
        "print(a/b)"
      ],
      "metadata": {
        "colab": {
          "base_uri": "https://localhost:8080/"
        },
        "id": "6Uqq8raLg680",
        "outputId": "a32b0985-0084-4a69-82ce-c7359c0067b0"
      },
      "execution_count": 63,
      "outputs": [
        {
          "output_type": "stream",
          "name": "stdout",
          "text": [
            "[[17 18 10]\n",
            " [22 28 25]\n",
            " [22 21 23]]\n",
            "[[ -7 -10 -10]\n",
            " [-14 -10 -11]\n",
            " [ -4  -7  -5]]\n",
            "[[ 60  56   0]\n",
            " [ 72 171 126]\n",
            " [117  98 126]]\n",
            "[[0.41666667 0.28571429 0.        ]\n",
            " [0.22222222 0.47368421 0.38888889]\n",
            " [0.69230769 0.5        0.64285714]]\n"
          ]
        }
      ]
    },
    {
      "cell_type": "code",
      "source": [
        "# Using np array\n",
        "a = np.random.randint(0,10,(3,3))\n",
        "b = np.random.randint(10,20,(3,3))"
      ],
      "metadata": {
        "id": "L4ZMts65hEr4"
      },
      "execution_count": 64,
      "outputs": []
    },
    {
      "cell_type": "code",
      "source": [
        "print(a)\n",
        "print(b)"
      ],
      "metadata": {
        "colab": {
          "base_uri": "https://localhost:8080/"
        },
        "id": "pkJuTzc5hRPe",
        "outputId": "18f429e6-ae7a-4d13-c2d6-f13e5b066d28"
      },
      "execution_count": 65,
      "outputs": [
        {
          "output_type": "stream",
          "name": "stdout",
          "text": [
            "[[1 5 1]\n",
            " [3 0 3]\n",
            " [3 4 0]]\n",
            "[[14 11 19]\n",
            " [12 11 15]\n",
            " [11 16 14]]\n"
          ]
        }
      ]
    },
    {
      "cell_type": "code",
      "source": [
        "print(np.add(a,b))\n",
        "print(np.subtract(a,b))\n",
        "print(np.multiply(a,b))\n",
        "print(np.divide(a,b))"
      ],
      "metadata": {
        "colab": {
          "base_uri": "https://localhost:8080/"
        },
        "id": "nFeOy8MbhS9j",
        "outputId": "30bf4150-61dd-4fbc-ec92-315f3a8dbc47"
      },
      "execution_count": 66,
      "outputs": [
        {
          "output_type": "stream",
          "name": "stdout",
          "text": [
            "[[15 16 20]\n",
            " [15 11 18]\n",
            " [14 20 14]]\n",
            "[[-13  -6 -18]\n",
            " [ -9 -11 -12]\n",
            " [ -8 -12 -14]]\n",
            "[[14 55 19]\n",
            " [36  0 45]\n",
            " [33 64  0]]\n",
            "[[0.07142857 0.45454545 0.05263158]\n",
            " [0.25       0.         0.2       ]\n",
            " [0.27272727 0.25       0.        ]]\n"
          ]
        }
      ]
    },
    {
      "cell_type": "code",
      "source": [
        "# Array Manipulation\n",
        "array = np.random.randint(0,10,(2,3))\n",
        "print(array)"
      ],
      "metadata": {
        "colab": {
          "base_uri": "https://localhost:8080/"
        },
        "id": "cdYw2_eWhmzU",
        "outputId": "cf9c2a75-403a-4213-8184-e6feb7dccc51"
      },
      "execution_count": 67,
      "outputs": [
        {
          "output_type": "stream",
          "name": "stdout",
          "text": [
            "[[2 4 2]\n",
            " [9 6 3]]\n"
          ]
        }
      ]
    },
    {
      "cell_type": "code",
      "source": [
        "print(array.shape)"
      ],
      "metadata": {
        "colab": {
          "base_uri": "https://localhost:8080/"
        },
        "id": "cZYNBx2-hz0n",
        "outputId": "db5739d2-520d-46ea-c3ef-5348aea1fa3c"
      },
      "execution_count": 68,
      "outputs": [
        {
          "output_type": "stream",
          "name": "stdout",
          "text": [
            "(2, 3)\n"
          ]
        }
      ]
    },
    {
      "cell_type": "code",
      "source": [
        "# Transpose\n",
        "trans = np.transpose(array)\n",
        "print(trans)"
      ],
      "metadata": {
        "colab": {
          "base_uri": "https://localhost:8080/"
        },
        "id": "xE-hFCwOh3aJ",
        "outputId": "c1334009-40c9-42ca-e1e6-8fa8092ddfba"
      },
      "execution_count": 69,
      "outputs": [
        {
          "output_type": "stream",
          "name": "stdout",
          "text": [
            "[[2 9]\n",
            " [4 6]\n",
            " [2 3]]\n"
          ]
        }
      ]
    },
    {
      "cell_type": "code",
      "source": [
        "array = np.random.randint(0,10,(2,3))\n",
        "print(array)"
      ],
      "metadata": {
        "colab": {
          "base_uri": "https://localhost:8080/"
        },
        "id": "n8iwIdwaiDqe",
        "outputId": "d4755adc-6a39-467d-b1cc-5e1dcbdfb88c"
      },
      "execution_count": 70,
      "outputs": [
        {
          "output_type": "stream",
          "name": "stdout",
          "text": [
            "[[3 8 7]\n",
            " [4 2 4]]\n"
          ]
        }
      ]
    },
    {
      "cell_type": "code",
      "source": [
        "print(array.shape)"
      ],
      "metadata": {
        "colab": {
          "base_uri": "https://localhost:8080/"
        },
        "id": "_B3wsfrXiXUi",
        "outputId": "47e06ffb-18b9-4c39-d112-6476782e5f43"
      },
      "execution_count": 71,
      "outputs": [
        {
          "output_type": "stream",
          "name": "stdout",
          "text": [
            "(2, 3)\n"
          ]
        }
      ]
    },
    {
      "cell_type": "code",
      "source": [
        "# Transposition 2\n",
        "trans2 = array.T\n",
        "print(trans2)"
      ],
      "metadata": {
        "colab": {
          "base_uri": "https://localhost:8080/"
        },
        "id": "cRIt0EiLiZ6j",
        "outputId": "61354de9-6bd5-402c-954f-0e43acdd0362"
      },
      "execution_count": 72,
      "outputs": [
        {
          "output_type": "stream",
          "name": "stdout",
          "text": [
            "[[3 4]\n",
            " [8 2]\n",
            " [7 4]]\n"
          ]
        }
      ]
    },
    {
      "cell_type": "code",
      "source": [
        "# reshaping a array\n",
        "a = np.random.randint(0,10,(3,4))\n",
        "print(a)"
      ],
      "metadata": {
        "colab": {
          "base_uri": "https://localhost:8080/"
        },
        "id": "r_j6ceo6ioCN",
        "outputId": "88f3fe09-5952-4de8-eaba-344e50d6ea0b"
      },
      "execution_count": 73,
      "outputs": [
        {
          "output_type": "stream",
          "name": "stdout",
          "text": [
            "[[5 7 9 4]\n",
            " [7 7 1 0]\n",
            " [3 2 5 5]]\n"
          ]
        }
      ]
    },
    {
      "cell_type": "code",
      "source": [
        "print(a.shape)"
      ],
      "metadata": {
        "colab": {
          "base_uri": "https://localhost:8080/"
        },
        "id": "k6s3mtd_i-NA",
        "outputId": "faa34ac6-bdd8-4e67-a72f-c199495d077e"
      },
      "execution_count": 74,
      "outputs": [
        {
          "output_type": "stream",
          "name": "stdout",
          "text": [
            "(3, 4)\n"
          ]
        }
      ]
    },
    {
      "cell_type": "code",
      "source": [
        "b = a.reshape(4,3)\n",
        "print(b)"
      ],
      "metadata": {
        "colab": {
          "base_uri": "https://localhost:8080/"
        },
        "id": "j2_PMy5sjAaZ",
        "outputId": "0dd603d0-1297-4ad8-c5de-3775293172b0"
      },
      "execution_count": 75,
      "outputs": [
        {
          "output_type": "stream",
          "name": "stdout",
          "text": [
            "[[5 7 9]\n",
            " [4 7 7]\n",
            " [1 0 3]\n",
            " [2 5 5]]\n"
          ]
        }
      ]
    },
    {
      "cell_type": "code",
      "source": [
        "print(b.shape)"
      ],
      "metadata": {
        "colab": {
          "base_uri": "https://localhost:8080/"
        },
        "id": "Qv9djMlqjNy7",
        "outputId": "4d5ce5dd-a085-4a8f-e3aa-4aeac1fdb50f"
      },
      "execution_count": 76,
      "outputs": [
        {
          "output_type": "stream",
          "name": "stdout",
          "text": [
            "(4, 3)\n"
          ]
        }
      ]
    },
    {
      "cell_type": "code",
      "source": [],
      "metadata": {
        "id": "aiEgzTaqjXTn"
      },
      "execution_count": null,
      "outputs": []
    }
  ]
}